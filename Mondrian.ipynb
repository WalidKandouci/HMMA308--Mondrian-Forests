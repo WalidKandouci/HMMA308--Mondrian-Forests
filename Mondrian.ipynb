{
 "cells": [
  {
   "cell_type": "markdown",
   "metadata": {},
   "source": [
    "# Part I"
   ]
  },
  {
   "cell_type": "code",
   "execution_count": 1,
   "metadata": {},
   "outputs": [],
   "source": [
    "import numpy as np\n",
    "import pandas as pd\n",
    "import matplotlib.pyplot as plt\n",
    "import matplotlib.path as mpath\n",
    "import matplotlib.lines as mlines\n",
    "import matplotlib.patches as mpatches\n",
    "from matplotlib.collections import PatchCollection\n",
    "\n",
    "%matplotlib inline"
   ]
  },
  {
   "cell_type": "code",
   "execution_count": 2,
   "metadata": {},
   "outputs": [],
   "source": [
    "def dimensions(box, size=None):\n",
    "    if box is None:\n",
    "        if size is not None:\n",
    "            return np.zeros(size)\n",
    "        else: \n",
    "            raise ValueError('If box is not provided, you must specify size.')\n",
    "            \n",
    "    return np.diff(box, axis=1).flatten()\n",
    "\n",
    "def linear_dimension(box):\n",
    "    if box is None:\n",
    "        return 0\n",
    "    return dimensions(box).sum()\n",
    "\n",
    "def interval_difference(outer_interval, inner_interval):\n",
    "    lower_outer, upper_outer = outer_interval\n",
    "    lower_inner, upper_inner = inner_interval\n",
    "    return [lower_outer, lower_inner], [upper_inner, upper_outer]\n",
    "\n",
    "def sample_interval_difference(outer_interval, inner_interval):\n",
    "    intervals = interval_difference(outer_interval, inner_interval)\n",
    "    dimensions = [np.diff(intervals[0])[0], np.diff(intervals[1])[0]]\n",
    "    chosen_interval_index = np.random.choice(range(len(intervals)), p=dimensions/np.sum(dimensions))\n",
    "    chosen_interval = intervals[chosen_interval_index]\n",
    "    return np.random.uniform(low=chosen_interval[0], high=chosen_interval[1], size=1)[0], chosen_interval_index\n",
    "\n",
    "def random_axis(dimensions):\n",
    "    return np.random.choice(range(len(dimensions)), \n",
    "                            p=dimensions/np.sum(dimensions))\n",
    "\n",
    "def random_cut(box, axis):\n",
    "    return np.random.uniform(low=self.box[axis][0], \n",
    "                             high=self.box[axis][1], \n",
    "                             size=1)[0]\n",
    "\n",
    "def cost_next_cut(linear_dimension):\n",
    "    return np.random.exponential(scale=1.0/linear_dimension, size=1)[0]\n",
    "\n",
    "def new_cut_proposal(self):\n",
    "    cost = self.cost_next_cut()\n",
    "    axis = self.random_axis()\n",
    "    cut_point = self.random_cut(axis)\n",
    "    return cost, axis, cut_point\n",
    "\n",
    "def cut_boxes(box, cut_axis, cut_point):\n",
    "    left = box.copy()\n",
    "    right = box.copy()\n",
    "    low, high = box[cut_axis]\n",
    "\n",
    "    if cut_point <= low or cut_point >= high:\n",
    "        raise ValueError('Point is not in interval.')\n",
    "\n",
    "    left[cut_axis] = [low, cut_point]\n",
    "    right[cut_axis] = [cut_point, high]\n",
    "    return left, right"
   ]
  },
  {
   "cell_type": "code",
   "execution_count": 3,
   "metadata": {},
   "outputs": [],
   "source": [
    "class Mondrian(object):\n",
    "    def __init__(self, box, budget):\n",
    "        self.box = box\n",
    "        self.budget = budget\n",
    "        self.cut_point = None\n",
    "        self.cut_axis = None\n",
    "        self.cut_budget = None\n",
    "        self.left = None\n",
    "        self.right = None\n",
    "        \n",
    "    def extended_by(self, box):\n",
    "        if self.box is None:\n",
    "            return True\n",
    "        return all((box[:, 0] <= self.box[:, 0]) & (box[:, 1] >= self.box[:, 1]))\n",
    "    \n",
    "    def contains(self, point):\n",
    "        if self.box is None:\n",
    "            return False\n",
    "        return all(box[:,0] <= point) & (box[:,1] >= point)\n",
    "    \n",
    "    def has_cut(self):\n",
    "        return self.cut_axis is not None\n",
    "    \n",
    "    def is_empty(self):\n",
    "        return self.box is None\n",
    "    \n",
    "def grow_mondrian(box, budget, given_mondrian=None):\n",
    "    if given_mondrian is None:\n",
    "        given_mondrian = Mondrian(None, budget)\n",
    "\n",
    "    if not given_mondrian.extended_by(box):\n",
    "        raise ValueError('Incompatible boxes: given mondrian box must be contained in new box.')\n",
    "    \n",
    "    mondrian = Mondrian(box, budget)\n",
    "    \n",
    "    cost = cost_next_cut(linear_dimension(box) - linear_dimension(given_mondrian.box))\n",
    "    \n",
    "    next_budget = budget - cost\n",
    "    \n",
    "    given_mondrian_next_budget = given_mondrian.cut_budget if given_mondrian.has_cut() else 0\n",
    "    \n",
    "    \n",
    "    if next_budget < given_mondrian_next_budget:        \n",
    "        if given_mondrian.has_cut():\n",
    "            mondrian.cut_axis = given_mondrian.cut_axis\n",
    "            mondrian.cut_point = given_mondrian.cut_point\n",
    "            mondrian.cut_budget = given_mondrian_next_budget\n",
    "\n",
    "            left, right = cut_boxes(box, mondrian.cut_axis, mondrian.cut_point)\n",
    "\n",
    "            mondrian.left = grow_mondrian(left, given_mondrian_next_budget, given_mondrian.left)\n",
    "            mondrian.right = grow_mondrian(right, given_mondrian_next_budget, given_mondrian.right)\n",
    "    else:\n",
    "        dimensions_outer = dimensions(box)\n",
    "        dimensions_inner = dimensions(given_mondrian.box, size=len(box))\n",
    "        mondrian.cut_axis = random_axis(dimensions_outer - dimensions_inner)\n",
    "        outer_interval = box[mondrian.cut_axis]\n",
    "        \n",
    "        if given_mondrian.is_empty():\n",
    "            inner_interval = [outer_interval[0], outer_interval[0]]\n",
    "        else:\n",
    "            inner_interval = given_mondrian.box[mondrian.cut_axis]\n",
    "\n",
    "        mondrian.cut_point, cut_side = sample_interval_difference(outer_interval, inner_interval)\n",
    "        mondrian.cut_budget = next_budget\n",
    "        \n",
    "        left, right = cut_boxes(box, mondrian.cut_axis, mondrian.cut_point)\n",
    "\n",
    "        if cut_side: # entire given_mondrian to the left\n",
    "            mondrian.left = grow_mondrian(left, next_budget, given_mondrian)\n",
    "            mondrian.right = grow_mondrian(right, next_budget, Mondrian(None, next_budget))\n",
    "        else: # all given_mondrian to the right\n",
    "            mondrian.left = grow_mondrian(left, next_budget, Mondrian(None, next_budget))\n",
    "            mondrian.right = grow_mondrian(right, next_budget, given_mondrian)\n",
    "            \n",
    "    return mondrian"
   ]
  },
  {
   "cell_type": "code",
   "execution_count": 4,
   "metadata": {},
   "outputs": [],
   "source": [
    "def get_random_color():\n",
    "    return np.random.choice(['blue', 'red', 'yellow', 'white'], 1)[0]\n",
    "    \n",
    "def box_2d(box, color=None, alpha=None):\n",
    "    low_x, high_x = box[0]\n",
    "    low_y, high_y = box[1]\n",
    "    width = high_x - low_x\n",
    "    height = high_y - low_y\n",
    "    \n",
    "    if color is None:\n",
    "        color = 'white'\n",
    "    if alpha is None:\n",
    "        alpha = 1\n",
    "        \n",
    "    lower_left_corner = np.array([low_x, low_y])\n",
    "    \n",
    "    return mpatches.Rectangle(lower_left_corner, width, height, \n",
    "                              color=color, ec='black', linewidth=2, \n",
    "                              alpha=alpha)\n",
    "\n",
    "def boxes(m, box_collection, color=None):\n",
    "    random_color = False\n",
    "    \n",
    "    if color == 'true_mondrian':\n",
    "        random_color = True\n",
    "        color = get_random_color()\n",
    "    \n",
    "    box_collection.append(box_2d(m.box, color))\n",
    "    \n",
    "    if m.has_cut():\n",
    "        color = 'true_mondrian' if random_color else color\n",
    "        boxes(m.left, box_collection, color)\n",
    "        boxes(m.right, box_collection, color)\n",
    "        \n",
    "def plot_coloured_mondrian(m, ax, color=None, given_mondrian=None):\n",
    "    if given_mondrian is None:\n",
    "        given_mondrian = Mondrian(None, budget)\n",
    "        \n",
    "    box_collection = []\n",
    "    boxes(m, box_collection, color)\n",
    "    \n",
    "    if not given_mondrian.is_empty():\n",
    "        box_collection.append(box_2d(given_mondrian.box, \n",
    "                                     color='black', alpha=0.1))\n",
    "        \n",
    "    collection = PatchCollection(box_collection, match_original=True)\n",
    "    ax.add_collection(collection)\n",
    "    \n",
    "    ax.axis('off')\n",
    "    ax.autoscale()\n",
    "    #plt.show()\n",
    "    \n",
    "def random_mondrians(box, budget, given_mondrian=None, color=None, rows=1, columns=1, figsize=(15, 15)):\n",
    "    if given_mondrian is None:\n",
    "        given_mondrian = Mondrian(None, budget)\n",
    "        \n",
    "    if rows == 1 and columns == 1:\n",
    "        fig, ax = plt.subplots(figsize=figsize)  \n",
    "        plot_coloured_mondrian(grow_mondrian(box, budget, given_mondrian), \n",
    "                               ax, color=color, given_mondrian=given_mondrian)\n",
    "    else:\n",
    "        fig, ax = plt.subplots(rows, columns, figsize=figsize)  \n",
    "\n",
    "        for row in range(rows):\n",
    "            for col in range(columns):\n",
    "                if not given_mondrian.is_empty() and row == 0 and col ==0:\n",
    "                    plot_coloured_mondrian(given_mondrian, ax[row, col], color=color)\n",
    "                else:\n",
    "                    plot_coloured_mondrian(grow_mondrian(box, budget, given_mondrian), \n",
    "                                           ax[row, col], color=color, given_mondrian=given_mondrian)\n",
    "                    \n",
    "def growing_mondrians(initial_box, budget, rows=1, columns=1, figsize=(15, 15)):\n",
    "    if rows == 1 and columns == 1:\n",
    "        fig, ax = plt.subplots(figsize=figsize)  \n",
    "        plot_coloured_mondrian(grow_mondrian(box, budget), \n",
    "                               ax, color=None)\n",
    "    else:\n",
    "        fig, ax = plt.subplots(rows, columns, figsize=figsize)  \n",
    "        \n",
    "        given_mondrian = Mondrian(None, budget)\n",
    "        box = initial_box\n",
    "        for row in range(rows):\n",
    "            for col in range(columns):\n",
    "                mondrian = grow_mondrian(box, budget, given_mondrian)\n",
    "                plot_coloured_mondrian(mondrian, ax[row, col], color=None, given_mondrian=given_mondrian)\n",
    "                given_mondrian = mondrian\n",
    "                box = 2 * box"
   ]
  },
  {
   "cell_type": "code",
   "execution_count": 5,
   "metadata": {},
   "outputs": [],
   "source": [
    "box = np.array([[0.0, 1.0], [0.0, 1.0]])"
   ]
  },
  {
   "cell_type": "code",
   "execution_count": 7,
   "metadata": {},
   "outputs": [
    {
     "data": {
      "image/png": "[encoded data removed]",
      "text/plain": [
       "<Figure size 1080x1080 with 9 Axes>"
      ]
     },
     "metadata": {
      "needs_background": "light"
     },
     "output_type": "display_data"
    }
   ],
   "source": [
    "random_mondrians(box, 1, rows=3, columns=3, color='true_mondrian')\n",
    "plt.savefig(\"MondrianExmpl.pdf\")"
   ]
  },
  {
   "cell_type": "markdown",
   "metadata": {},
   "source": [
    "---\n",
    "# Part II:"
   ]
  },
  {
   "cell_type": "code",
   "execution_count": 12,
   "metadata": {},
   "outputs": [
    {
     "name": "stderr",
     "output_type": "stream",
     "text": [
      "C:\\Users\\Walid\\anaconda3\\lib\\site-packages\\sklearn\\utils\\deprecation.py:144: FutureWarning: The sklearn.ensemble.forest module is  deprecated in version 0.22 and will be removed in version 0.24. The corresponding classes / functions should instead be imported from sklearn.ensemble. Anything that cannot be imported from sklearn.ensemble is now part of the private API.\n",
      "  warnings.warn(message, FutureWarning)\n",
      "C:\\Users\\Walid\\anaconda3\\lib\\site-packages\\sklearn\\externals\\joblib\\__init__.py:15: FutureWarning: sklearn.externals.joblib is deprecated in 0.21 and will be removed in 0.23. Please import this functionality directly from joblib, which can be installed with: pip install joblib. If this warning is raised when loading pickled models, you may need to re-serialize those models with scikit-learn 0.21+.\n",
      "  warnings.warn(msg, category=FutureWarning)\n",
      "C:\\Users\\Walid\\anaconda3\\lib\\site-packages\\sklearn\\externals\\six.py:31: FutureWarning: The module is deprecated in version 0.21 and will be removed in version 0.23 since we've dropped support for Python 2.7. Please rely on the official version of six (https://pypi.org/project/six/).\n",
      "  \"(https://pypi.org/project/six/).\", FutureWarning)\n",
      "C:\\Users\\Walid\\anaconda3\\lib\\site-packages\\sklearn\\utils\\deprecation.py:144: FutureWarning: The sklearn.tree.tree module is  deprecated in version 0.22 and will be removed in version 0.24. The corresponding classes / functions should instead be imported from sklearn.tree. Anything that cannot be imported from sklearn.tree is now part of the private API.\n",
      "  warnings.warn(message, FutureWarning)\n"
     ]
    }
   ],
   "source": [
    "%matplotlib inline\n",
    "\n",
    "import numpy as np\n",
    "import pandas as pd\n",
    "import statsmodels.api as sm\n",
    "import statsmodels.formula.api as smf\n",
    "import statsmodels.genmod\n",
    "from statsmodels.tools.sm_exceptions import ConvergenceWarning\n",
    "import matplotlib.pyplot as plt\n",
    "from math import sqrt\n",
    "import seaborn as sns\n",
    "sns.set_palette(\"colorblind\")\n",
    "import sklearn.datasets \n",
    "from sklearn.model_selection import train_test_split\n",
    "import skgarden\n",
    "from skgarden import MondrianForestClassifier\n",
    "from skgarden import MondrianForestRegressor\n",
    "from skgarden import MondrianTreeClassifier\n",
    "from skgarden import MondrianTreeRegressor\n",
    "from sklearn.linear_model import LinearRegression\n",
    "import sklearn"
   ]
  },
  {
   "cell_type": "code",
   "execution_count": 13,
   "metadata": {},
   "outputs": [],
   "source": [
    "from sklearn.datasets import load_boston"
   ]
  },
  {
   "cell_type": "code",
   "execution_count": 14,
   "metadata": {},
   "outputs": [],
   "source": [
    "boston = load_boston()"
   ]
  },
  {
   "cell_type": "code",
   "execution_count": 15,
   "metadata": {},
   "outputs": [],
   "source": [
    "df_x=pd.DataFrame(boston.data, columns=boston.feature_names)\n",
    "df_y=pd.DataFrame(boston.target)"
   ]
  },
  {
   "cell_type": "code",
   "execution_count": 16,
   "metadata": {
    "scrolled": true
   },
   "outputs": [
    {
     "data": {
      "text/html": [
       "<div>\n",
       "<style scoped>\n",
       "    .dataframe tbody tr th:only-of-type {\n",
       "        vertical-align: middle;\n",
       "    }\n",
       "\n",
       "    .dataframe tbody tr th {\n",
       "        vertical-align: top;\n",
       "    }\n",
       "\n",
       "    .dataframe thead th {\n",
       "        text-align: right;\n",
       "    }\n",
       "</style>\n",
       "<table border=\"1\" class=\"dataframe\">\n",
       "  <thead>\n",
       "    <tr style=\"text-align: right;\">\n",
       "      <th></th>\n",
       "      <th>CRIM</th>\n",
       "      <th>ZN</th>\n",
       "      <th>INDUS</th>\n",
       "      <th>CHAS</th>\n",
       "      <th>NOX</th>\n",
       "      <th>RM</th>\n",
       "      <th>AGE</th>\n",
       "      <th>DIS</th>\n",
       "      <th>RAD</th>\n",
       "      <th>TAX</th>\n",
       "      <th>PTRATIO</th>\n",
       "      <th>B</th>\n",
       "      <th>LSTAT</th>\n",
       "    </tr>\n",
       "  </thead>\n",
       "  <tbody>\n",
       "    <tr>\n",
       "      <th>0</th>\n",
       "      <td>0.00632</td>\n",
       "      <td>18.0</td>\n",
       "      <td>2.31</td>\n",
       "      <td>0.0</td>\n",
       "      <td>0.538</td>\n",
       "      <td>6.575</td>\n",
       "      <td>65.2</td>\n",
       "      <td>4.0900</td>\n",
       "      <td>1.0</td>\n",
       "      <td>296.0</td>\n",
       "      <td>15.3</td>\n",
       "      <td>396.90</td>\n",
       "      <td>4.98</td>\n",
       "    </tr>\n",
       "    <tr>\n",
       "      <th>1</th>\n",
       "      <td>0.02731</td>\n",
       "      <td>0.0</td>\n",
       "      <td>7.07</td>\n",
       "      <td>0.0</td>\n",
       "      <td>0.469</td>\n",
       "      <td>6.421</td>\n",
       "      <td>78.9</td>\n",
       "      <td>4.9671</td>\n",
       "      <td>2.0</td>\n",
       "      <td>242.0</td>\n",
       "      <td>17.8</td>\n",
       "      <td>396.90</td>\n",
       "      <td>9.14</td>\n",
       "    </tr>\n",
       "    <tr>\n",
       "      <th>2</th>\n",
       "      <td>0.02729</td>\n",
       "      <td>0.0</td>\n",
       "      <td>7.07</td>\n",
       "      <td>0.0</td>\n",
       "      <td>0.469</td>\n",
       "      <td>7.185</td>\n",
       "      <td>61.1</td>\n",
       "      <td>4.9671</td>\n",
       "      <td>2.0</td>\n",
       "      <td>242.0</td>\n",
       "      <td>17.8</td>\n",
       "      <td>392.83</td>\n",
       "      <td>4.03</td>\n",
       "    </tr>\n",
       "    <tr>\n",
       "      <th>3</th>\n",
       "      <td>0.03237</td>\n",
       "      <td>0.0</td>\n",
       "      <td>2.18</td>\n",
       "      <td>0.0</td>\n",
       "      <td>0.458</td>\n",
       "      <td>6.998</td>\n",
       "      <td>45.8</td>\n",
       "      <td>6.0622</td>\n",
       "      <td>3.0</td>\n",
       "      <td>222.0</td>\n",
       "      <td>18.7</td>\n",
       "      <td>394.63</td>\n",
       "      <td>2.94</td>\n",
       "    </tr>\n",
       "    <tr>\n",
       "      <th>4</th>\n",
       "      <td>0.06905</td>\n",
       "      <td>0.0</td>\n",
       "      <td>2.18</td>\n",
       "      <td>0.0</td>\n",
       "      <td>0.458</td>\n",
       "      <td>7.147</td>\n",
       "      <td>54.2</td>\n",
       "      <td>6.0622</td>\n",
       "      <td>3.0</td>\n",
       "      <td>222.0</td>\n",
       "      <td>18.7</td>\n",
       "      <td>396.90</td>\n",
       "      <td>5.33</td>\n",
       "    </tr>\n",
       "  </tbody>\n",
       "</table>\n",
       "</div>"
      ],
      "text/plain": [
       "      CRIM    ZN  INDUS  CHAS    NOX     RM   AGE     DIS  RAD    TAX  \\\n",
       "0  0.00632  18.0   2.31   0.0  0.538  6.575  65.2  4.0900  1.0  296.0   \n",
       "1  0.02731   0.0   7.07   0.0  0.469  6.421  78.9  4.9671  2.0  242.0   \n",
       "2  0.02729   0.0   7.07   0.0  0.469  7.185  61.1  4.9671  2.0  242.0   \n",
       "3  0.03237   0.0   2.18   0.0  0.458  6.998  45.8  6.0622  3.0  222.0   \n",
       "4  0.06905   0.0   2.18   0.0  0.458  7.147  54.2  6.0622  3.0  222.0   \n",
       "\n",
       "   PTRATIO       B  LSTAT  \n",
       "0     15.3  396.90   4.98  \n",
       "1     17.8  396.90   9.14  \n",
       "2     17.8  392.83   4.03  \n",
       "3     18.7  394.63   2.94  \n",
       "4     18.7  396.90   5.33  "
      ]
     },
     "execution_count": 16,
     "metadata": {},
     "output_type": "execute_result"
    }
   ],
   "source": [
    "df_x.head(5)"
   ]
  },
  {
   "cell_type": "code",
   "execution_count": 17,
   "metadata": {
    "scrolled": true
   },
   "outputs": [
    {
     "data": {
      "image/png": "[encoded data removed]",
      "text/plain": [
       "<Figure size 432x288 with 1 Axes>"
      ]
     },
     "metadata": {
      "needs_background": "light"
     },
     "output_type": "display_data"
    }
   ],
   "source": [
    "sns.distplot(df_x.AGE)\n",
    "plt.savefig(\"Age.pdf\") "
   ]
  },
  {
   "cell_type": "code",
   "execution_count": 18,
   "metadata": {
    "scrolled": true
   },
   "outputs": [
    {
     "data": {
      "image/png": "[encoded data removed]",
      "text/plain": [
       "<Figure size 432x288 with 1 Axes>"
      ]
     },
     "metadata": {
      "needs_background": "light"
     },
     "output_type": "display_data"
    }
   ],
   "source": [
    "sns.distplot(df_x.RM)\n",
    "plt.savefig(\"RM.pdf\") "
   ]
  },
  {
   "cell_type": "code",
   "execution_count": 19,
   "metadata": {},
   "outputs": [
    {
     "data": {
      "image/png": "[encoded data removed]",
      "text/plain": [
       "<Figure size 432x288 with 1 Axes>"
      ]
     },
     "metadata": {
      "needs_background": "light"
     },
     "output_type": "display_data"
    }
   ],
   "source": [
    "sns.distplot(df_x.TAX)\n",
    "plt.savefig(\"TAX.pdf\") "
   ]
  },
  {
   "cell_type": "code",
   "execution_count": 20,
   "metadata": {
    "scrolled": true
   },
   "outputs": [
    {
     "name": "stdout",
     "output_type": "stream",
     "text": [
      ".. _boston_dataset:\n",
      "\n",
      "Boston house prices dataset\n",
      "---------------------------\n",
      "\n",
      "**Data Set Characteristics:**  \n",
      "\n",
      "    :Number of Instances: 506 \n",
      "\n",
      "    :Number of Attributes: 13 numeric/categorical predictive. Median Value (attribute 14) is usually the target.\n",
      "\n",
      "    :Attribute Information (in order):\n",
      "        - CRIM     per capita crime rate by town\n",
      "        - ZN       proportion of residential land zoned for lots over 25,000 sq.ft.\n",
      "        - INDUS    proportion of non-retail business acres per town\n",
      "        - CHAS     Charles River dummy variable (= 1 if tract bounds river; 0 otherwise)\n",
      "        - NOX      nitric oxides concentration (parts per 10 million)\n",
      "        - RM       average number of rooms per dwelling\n",
      "        - AGE      proportion of owner-occupied units built prior to 1940\n",
      "        - DIS      weighted distances to five Boston employment centres\n",
      "        - RAD      index of accessibility to radial highways\n",
      "        - TAX      full-value property-tax rate per $10,000\n",
      "        - PTRATIO  pupil-teacher ratio by town\n",
      "        - B        1000(Bk - 0.63)^2 where Bk is the proportion of blacks by town\n",
      "        - LSTAT    % lower status of the population\n",
      "        - MEDV     Median value of owner-occupied homes in $1000's\n",
      "\n",
      "    :Missing Attribute Values: None\n",
      "\n",
      "    :Creator: Harrison, D. and Rubinfeld, D.L.\n",
      "\n",
      "This is a copy of UCI ML housing dataset.\n",
      "https://archive.ics.uci.edu/ml/machine-learning-databases/housing/\n",
      "\n",
      "\n",
      "This dataset was taken from the StatLib library which is maintained at Carnegie Mellon University.\n",
      "\n",
      "The Boston house-price data of Harrison, D. and Rubinfeld, D.L. 'Hedonic\n",
      "prices and the demand for clean air', J. Environ. Economics & Management,\n",
      "vol.5, 81-102, 1978.   Used in Belsley, Kuh & Welsch, 'Regression diagnostics\n",
      "...', Wiley, 1980.   N.B. Various transformations are used in the table on\n",
      "pages 244-261 of the latter.\n",
      "\n",
      "The Boston house-price data has been used in many machine learning papers that address regression\n",
      "problems.   \n",
      "     \n",
      ".. topic:: References\n",
      "\n",
      "   - Belsley, Kuh & Welsch, 'Regression diagnostics: Identifying Influential Data and Sources of Collinearity', Wiley, 1980. 244-261.\n",
      "   - Quinlan,R. (1993). Combining Instance-Based and Model-Based Learning. In Proceedings on the Tenth International Conference of Machine Learning, 236-243, University of Massachusetts, Amherst. Morgan Kaufmann.\n",
      "\n"
     ]
    }
   ],
   "source": [
    "print(boston.DESCR)"
   ]
  },
  {
   "cell_type": "code",
   "execution_count": null,
   "metadata": {},
   "outputs": [],
   "source": [
    "# Mondrian Tree Regressor\n",
    "mtr = MondrianForestRegressor()\n",
    "mtr.fit(X, y)\n",
    "y_mean, y_std = mtr.predict(X, return_std=True)\n",
    "mtr.fit(X, y)"
   ]
  }
 ],
 "metadata": {
  "kernelspec": {
   "display_name": "Python 3",
   "language": "python",
   "name": "python3"
  },
  "language_info": {
   "codemirror_mode": {
    "name": "ipython",
    "version": 3
   },
   "file_extension": ".py",
   "mimetype": "text/x-python",
   "name": "python",
   "nbconvert_exporter": "python",
   "pygments_lexer": "ipython3",
   "version": "3.7.6"
  }
 },
 "nbformat": 4,
 "nbformat_minor": 4
}
